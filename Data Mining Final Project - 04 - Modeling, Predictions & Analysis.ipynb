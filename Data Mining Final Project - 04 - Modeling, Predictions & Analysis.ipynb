{
 "cells": [
  {
   "cell_type": "markdown",
   "metadata": {},
   "source": [
    "# Modeling, Predictions and Analysis of CO2 Emissions Data"
   ]
  },
  {
   "cell_type": "markdown",
   "metadata": {},
   "source": [
    "### Libraries"
   ]
  },
  {
   "cell_type": "code",
   "execution_count": 1,
   "metadata": {
    "collapsed": true
   },
   "outputs": [],
   "source": [
    "# load the required libraries\n",
    "\n",
    "import pandas as pd\n",
    "import numpy as np\n",
    "from sklearn import linear_model, datasets\n",
    "from sklearn.ensemble import RandomForestRegressor\n",
    "from sklearn.metrics import mean_squared_error, r2_score\n",
    "from scipy.stats import spearmanr, pearsonr\n",
    "import matplotlib.pyplot as plt\n",
    "%matplotlib inline\n",
    "import plotly\n",
    "import plotly.plotly as py\n",
    "py.sign_in('','')\n",
    "import warnings\n",
    "warnings.filterwarnings(\"ignore\")"
   ]
  },
  {
   "cell_type": "markdown",
   "metadata": {},
   "source": [
    "### Data Load"
   ]
  },
  {
   "cell_type": "code",
   "execution_count": 2,
   "metadata": {
    "collapsed": true
   },
   "outputs": [],
   "source": [
    "# function to load the data\n",
    "\n",
    "def read_data(filename):\n",
    "    \n",
    "    df = pd.read_csv(filename,index_col=[0,1], header=2)\n",
    "    cols = []\n",
    "\n",
    "    for i in range(1960,2015):\n",
    "        cols.append(str(i))\n",
    "\n",
    "    df = df[cols[:len(cols)]]\n",
    "    df = df.reset_index()\n",
    "\n",
    "    country_metadata = pd.read_csv(\"Metadata_Country.csv\", header=0, usecols=['Country Code','Region','IncomeGroup'])\n",
    "    country_metadata = country_metadata.dropna()\n",
    "\n",
    "    # merge the dataframe with country metadata (Data Source: WorldBank {https://data.worldbank.org})\n",
    "    # to get only the countries and remove subgroups like Europe, Middle East etc\n",
    "\n",
    "    df_merged = df.merge(country_metadata,on=['Country Code'])\n",
    "    df_merged = df_merged.fillna(0)\n",
    "    \n",
    "    return df_merged"
   ]
  },
  {
   "cell_type": "code",
   "execution_count": 3,
   "metadata": {
    "collapsed": true
   },
   "outputs": [],
   "source": [
    "# load the data (Data Source: WorldBank {https://data.worldbank.org})\n",
    "\n",
    "co2_emissions_total = read_data(\"CO2Emissions_KT.csv\")\n",
    "gdp_current_usd     = read_data(\"GDP_CurrentUSD.csv\")\n",
    "population          = read_data(\"WorldPopulation_Total.csv\")"
   ]
  },
  {
   "cell_type": "markdown",
   "metadata": {},
   "source": [
    "### Data Preprocessing"
   ]
  },
  {
   "cell_type": "code",
   "execution_count": 4,
   "metadata": {
    "collapsed": true
   },
   "outputs": [],
   "source": [
    "# remove unnecessary columns to get country and year-wise gdp and population data\n",
    "\n",
    "gdp_current_usd = gdp_current_usd.drop(['Country Name','Region','IncomeGroup'], axis=1)\n",
    "population = population.drop(['Country Name','Region','IncomeGroup'], axis=1)"
   ]
  },
  {
   "cell_type": "code",
   "execution_count": 5,
   "metadata": {},
   "outputs": [
    {
     "data": {
      "text/html": [
       "<div>\n",
       "<style>\n",
       "    .dataframe thead tr:only-child th {\n",
       "        text-align: right;\n",
       "    }\n",
       "\n",
       "    .dataframe thead th {\n",
       "        text-align: left;\n",
       "    }\n",
       "\n",
       "    .dataframe tbody tr th {\n",
       "        vertical-align: top;\n",
       "    }\n",
       "</style>\n",
       "<table border=\"1\" class=\"dataframe\">\n",
       "  <thead>\n",
       "    <tr style=\"text-align: right;\">\n",
       "      <th></th>\n",
       "      <th>Country Code</th>\n",
       "      <th>1960</th>\n",
       "      <th>1961</th>\n",
       "      <th>1962</th>\n",
       "      <th>1963</th>\n",
       "      <th>1964</th>\n",
       "      <th>1965</th>\n",
       "      <th>1966</th>\n",
       "      <th>1967</th>\n",
       "      <th>1968</th>\n",
       "      <th>...</th>\n",
       "      <th>2005</th>\n",
       "      <th>2006</th>\n",
       "      <th>2007</th>\n",
       "      <th>2008</th>\n",
       "      <th>2009</th>\n",
       "      <th>2010</th>\n",
       "      <th>2011</th>\n",
       "      <th>2012</th>\n",
       "      <th>2013</th>\n",
       "      <th>2014</th>\n",
       "    </tr>\n",
       "  </thead>\n",
       "  <tbody>\n",
       "    <tr>\n",
       "      <th>0</th>\n",
       "      <td>ABW</td>\n",
       "      <td>0.0</td>\n",
       "      <td>0.0</td>\n",
       "      <td>0.0</td>\n",
       "      <td>0.0</td>\n",
       "      <td>0.0</td>\n",
       "      <td>0.0</td>\n",
       "      <td>0.0</td>\n",
       "      <td>0.0</td>\n",
       "      <td>0.0</td>\n",
       "      <td>...</td>\n",
       "      <td>2.331006e+09</td>\n",
       "      <td>2.421475e+09</td>\n",
       "      <td>2.623726e+09</td>\n",
       "      <td>2.791961e+09</td>\n",
       "      <td>2.498933e+09</td>\n",
       "      <td>2.467704e+09</td>\n",
       "      <td>2.584464e+09</td>\n",
       "      <td>0.0</td>\n",
       "      <td>0.0</td>\n",
       "      <td>0.0</td>\n",
       "    </tr>\n",
       "  </tbody>\n",
       "</table>\n",
       "<p>1 rows × 56 columns</p>\n",
       "</div>"
      ],
      "text/plain": [
       "  Country Code  1960  1961  1962  1963  1964  1965  1966  1967  1968  ...   \\\n",
       "0          ABW   0.0   0.0   0.0   0.0   0.0   0.0   0.0   0.0   0.0  ...    \n",
       "\n",
       "           2005          2006          2007          2008          2009  \\\n",
       "0  2.331006e+09  2.421475e+09  2.623726e+09  2.791961e+09  2.498933e+09   \n",
       "\n",
       "           2010          2011  2012  2013  2014  \n",
       "0  2.467704e+09  2.584464e+09   0.0   0.0   0.0  \n",
       "\n",
       "[1 rows x 56 columns]"
      ]
     },
     "execution_count": 5,
     "metadata": {},
     "output_type": "execute_result"
    }
   ],
   "source": [
    "# check first few rows of the data\n",
    "\n",
    "gdp_current_usd.head(1)"
   ]
  },
  {
   "cell_type": "markdown",
   "metadata": {},
   "source": [
    "### Data Transformation"
   ]
  },
  {
   "cell_type": "code",
   "execution_count": 6,
   "metadata": {
    "collapsed": true
   },
   "outputs": [],
   "source": [
    "# melt the dataframes so that the data can be subsequently merged\n",
    "\n",
    "co2_emissions_total_melt = pd.melt(co2_emissions_total,id_vars=['Country Name','Country Code','Region','IncomeGroup'],\n",
    "                                   var_name='year',value_name='co2_emissions')\n",
    "\n",
    "gdp_current_usd_melt = pd.melt(gdp_current_usd,id_vars=['Country Code'],\n",
    "                               var_name='year',value_name='gdp_current_usd')\n",
    "\n",
    "population_melt = pd.melt(population,id_vars=['Country Code'],\n",
    "                          var_name='year',value_name='population')"
   ]
  },
  {
   "cell_type": "code",
   "execution_count": 7,
   "metadata": {},
   "outputs": [
    {
     "data": {
      "text/html": [
       "<div>\n",
       "<style>\n",
       "    .dataframe thead tr:only-child th {\n",
       "        text-align: right;\n",
       "    }\n",
       "\n",
       "    .dataframe thead th {\n",
       "        text-align: left;\n",
       "    }\n",
       "\n",
       "    .dataframe tbody tr th {\n",
       "        vertical-align: top;\n",
       "    }\n",
       "</style>\n",
       "<table border=\"1\" class=\"dataframe\">\n",
       "  <thead>\n",
       "    <tr style=\"text-align: right;\">\n",
       "      <th></th>\n",
       "      <th>Country Code</th>\n",
       "      <th>year</th>\n",
       "      <th>gdp_current_usd</th>\n",
       "    </tr>\n",
       "  </thead>\n",
       "  <tbody>\n",
       "    <tr>\n",
       "      <th>0</th>\n",
       "      <td>ABW</td>\n",
       "      <td>1960</td>\n",
       "      <td>0.0</td>\n",
       "    </tr>\n",
       "  </tbody>\n",
       "</table>\n",
       "</div>"
      ],
      "text/plain": [
       "  Country Code  year  gdp_current_usd\n",
       "0          ABW  1960              0.0"
      ]
     },
     "execution_count": 7,
     "metadata": {},
     "output_type": "execute_result"
    }
   ],
   "source": [
    "# check the melted dataframe\n",
    "\n",
    "gdp_current_usd_melt.head(1)"
   ]
  },
  {
   "cell_type": "markdown",
   "metadata": {},
   "source": [
    "### Merging Dataframes"
   ]
  },
  {
   "cell_type": "code",
   "execution_count": 8,
   "metadata": {
    "collapsed": true
   },
   "outputs": [],
   "source": [
    "# merge gdp and population data with co2 emissions data on Country Code and year columns\n",
    "\n",
    "co2_gdp_population_data =  co2_emissions_total_melt.merge(gdp_current_usd_melt, \n",
    "                                on=['Country Code','year']).merge(population_melt,\n",
    "                                on=['Country Code','year'])"
   ]
  },
  {
   "cell_type": "code",
   "execution_count": 9,
   "metadata": {},
   "outputs": [
    {
     "data": {
      "text/html": [
       "<div>\n",
       "<style>\n",
       "    .dataframe thead tr:only-child th {\n",
       "        text-align: right;\n",
       "    }\n",
       "\n",
       "    .dataframe thead th {\n",
       "        text-align: left;\n",
       "    }\n",
       "\n",
       "    .dataframe tbody tr th {\n",
       "        vertical-align: top;\n",
       "    }\n",
       "</style>\n",
       "<table border=\"1\" class=\"dataframe\">\n",
       "  <thead>\n",
       "    <tr style=\"text-align: right;\">\n",
       "      <th></th>\n",
       "      <th>Country Name</th>\n",
       "      <th>Country Code</th>\n",
       "      <th>Region</th>\n",
       "      <th>IncomeGroup</th>\n",
       "      <th>year</th>\n",
       "      <th>co2_emissions</th>\n",
       "      <th>gdp_current_usd</th>\n",
       "      <th>population</th>\n",
       "    </tr>\n",
       "  </thead>\n",
       "  <tbody>\n",
       "    <tr>\n",
       "      <th>0</th>\n",
       "      <td>Aruba</td>\n",
       "      <td>ABW</td>\n",
       "      <td>Latin America &amp; Caribbean</td>\n",
       "      <td>High income</td>\n",
       "      <td>1960</td>\n",
       "      <td>0.000</td>\n",
       "      <td>0.000000e+00</td>\n",
       "      <td>54211.0</td>\n",
       "    </tr>\n",
       "    <tr>\n",
       "      <th>1</th>\n",
       "      <td>Afghanistan</td>\n",
       "      <td>AFG</td>\n",
       "      <td>South Asia</td>\n",
       "      <td>Low income</td>\n",
       "      <td>1960</td>\n",
       "      <td>414.371</td>\n",
       "      <td>5.377778e+08</td>\n",
       "      <td>8996351.0</td>\n",
       "    </tr>\n",
       "    <tr>\n",
       "      <th>2</th>\n",
       "      <td>Angola</td>\n",
       "      <td>AGO</td>\n",
       "      <td>Sub-Saharan Africa</td>\n",
       "      <td>Lower middle income</td>\n",
       "      <td>1960</td>\n",
       "      <td>550.050</td>\n",
       "      <td>0.000000e+00</td>\n",
       "      <td>5643182.0</td>\n",
       "    </tr>\n",
       "    <tr>\n",
       "      <th>3</th>\n",
       "      <td>Albania</td>\n",
       "      <td>ALB</td>\n",
       "      <td>Europe &amp; Central Asia</td>\n",
       "      <td>Upper middle income</td>\n",
       "      <td>1960</td>\n",
       "      <td>2024.184</td>\n",
       "      <td>0.000000e+00</td>\n",
       "      <td>1608800.0</td>\n",
       "    </tr>\n",
       "    <tr>\n",
       "      <th>4</th>\n",
       "      <td>Andorra</td>\n",
       "      <td>AND</td>\n",
       "      <td>Europe &amp; Central Asia</td>\n",
       "      <td>High income</td>\n",
       "      <td>1960</td>\n",
       "      <td>0.000</td>\n",
       "      <td>0.000000e+00</td>\n",
       "      <td>13411.0</td>\n",
       "    </tr>\n",
       "  </tbody>\n",
       "</table>\n",
       "</div>"
      ],
      "text/plain": [
       "  Country Name Country Code                     Region          IncomeGroup  \\\n",
       "0        Aruba          ABW  Latin America & Caribbean          High income   \n",
       "1  Afghanistan          AFG                 South Asia           Low income   \n",
       "2       Angola          AGO         Sub-Saharan Africa  Lower middle income   \n",
       "3      Albania          ALB      Europe & Central Asia  Upper middle income   \n",
       "4      Andorra          AND      Europe & Central Asia          High income   \n",
       "\n",
       "   year  co2_emissions  gdp_current_usd  population  \n",
       "0  1960          0.000     0.000000e+00     54211.0  \n",
       "1  1960        414.371     5.377778e+08   8996351.0  \n",
       "2  1960        550.050     0.000000e+00   5643182.0  \n",
       "3  1960       2024.184     0.000000e+00   1608800.0  \n",
       "4  1960          0.000     0.000000e+00     13411.0  "
      ]
     },
     "execution_count": 9,
     "metadata": {},
     "output_type": "execute_result"
    }
   ],
   "source": [
    "# check the merged dataframe\n",
    "\n",
    "co2_gdp_population_data.head()"
   ]
  },
  {
   "cell_type": "markdown",
   "metadata": {},
   "source": [
    "### Data Export"
   ]
  },
  {
   "cell_type": "code",
   "execution_count": 10,
   "metadata": {},
   "outputs": [
    {
     "name": "stdout",
     "output_type": "stream",
     "text": [
      "<class 'pandas.core.frame.DataFrame'>\n",
      "Int64Index: 8354 entries, 1 to 11934\n",
      "Data columns (total 8 columns):\n",
      "Country Name       8354 non-null object\n",
      "Country Code       8354 non-null object\n",
      "Region             8354 non-null object\n",
      "IncomeGroup        8354 non-null object\n",
      "year               8354 non-null object\n",
      "co2_emissions      8354 non-null float64\n",
      "gdp_current_usd    8354 non-null float64\n",
      "population         8354 non-null float64\n",
      "dtypes: float64(3), object(5)\n",
      "memory usage: 587.4+ KB\n"
     ]
    }
   ],
   "source": [
    "# remove the rows with zero values\n",
    "\n",
    "co2_gdp_population_data = co2_gdp_population_data[(co2_gdp_population_data != 0).all(1)]\n",
    "\n",
    "# check the information about the dataframe\n",
    "\n",
    "co2_gdp_population_data.info()"
   ]
  },
  {
   "cell_type": "code",
   "execution_count": 11,
   "metadata": {},
   "outputs": [
    {
     "data": {
      "text/html": [
       "<div>\n",
       "<style>\n",
       "    .dataframe thead tr:only-child th {\n",
       "        text-align: right;\n",
       "    }\n",
       "\n",
       "    .dataframe thead th {\n",
       "        text-align: left;\n",
       "    }\n",
       "\n",
       "    .dataframe tbody tr th {\n",
       "        vertical-align: top;\n",
       "    }\n",
       "</style>\n",
       "<table border=\"1\" class=\"dataframe\">\n",
       "  <thead>\n",
       "    <tr style=\"text-align: right;\">\n",
       "      <th></th>\n",
       "      <th>Country Name</th>\n",
       "      <th>Country Code</th>\n",
       "      <th>Region</th>\n",
       "      <th>IncomeGroup</th>\n",
       "      <th>year</th>\n",
       "      <th>co2_emissions</th>\n",
       "      <th>gdp_current_usd</th>\n",
       "      <th>population</th>\n",
       "    </tr>\n",
       "  </thead>\n",
       "  <tbody>\n",
       "    <tr>\n",
       "      <th>1</th>\n",
       "      <td>Afghanistan</td>\n",
       "      <td>AFG</td>\n",
       "      <td>South Asia</td>\n",
       "      <td>Low income</td>\n",
       "      <td>1960</td>\n",
       "      <td>414.371</td>\n",
       "      <td>5.377778e+08</td>\n",
       "      <td>8996351.0</td>\n",
       "    </tr>\n",
       "  </tbody>\n",
       "</table>\n",
       "</div>"
      ],
      "text/plain": [
       "  Country Name Country Code      Region IncomeGroup  year  co2_emissions  \\\n",
       "1  Afghanistan          AFG  South Asia  Low income  1960        414.371   \n",
       "\n",
       "   gdp_current_usd  population  \n",
       "1     5.377778e+08   8996351.0  "
      ]
     },
     "execution_count": 11,
     "metadata": {},
     "output_type": "execute_result"
    }
   ],
   "source": [
    "# save the dataframe as excel file to be used in tableau\n",
    "\n",
    "co2_gdp_population_data.to_excel(\"co2_gdp_population_data.xlsx\",index=False)\n",
    "\n",
    "# check first few rows of the dataframe\n",
    "\n",
    "co2_gdp_population_data.head(1)"
   ]
  },
  {
   "cell_type": "markdown",
   "metadata": {},
   "source": [
    "### Data Exploration"
   ]
  },
  {
   "cell_type": "code",
   "execution_count": 12,
   "metadata": {},
   "outputs": [
    {
     "data": {
      "text/html": [
       "<div>\n",
       "<style>\n",
       "    .dataframe thead tr:only-child th {\n",
       "        text-align: right;\n",
       "    }\n",
       "\n",
       "    .dataframe thead th {\n",
       "        text-align: left;\n",
       "    }\n",
       "\n",
       "    .dataframe tbody tr th {\n",
       "        vertical-align: top;\n",
       "    }\n",
       "</style>\n",
       "<table border=\"1\" class=\"dataframe\">\n",
       "  <thead>\n",
       "    <tr style=\"text-align: right;\">\n",
       "      <th></th>\n",
       "      <th>co2_emissions</th>\n",
       "      <th>gdp_current_usd</th>\n",
       "      <th>population</th>\n",
       "    </tr>\n",
       "  </thead>\n",
       "  <tbody>\n",
       "    <tr>\n",
       "      <th>co2_emissions</th>\n",
       "      <td>1.000000</td>\n",
       "      <td>0.764050</td>\n",
       "      <td>0.613163</td>\n",
       "    </tr>\n",
       "    <tr>\n",
       "      <th>gdp_current_usd</th>\n",
       "      <td>0.764050</td>\n",
       "      <td>1.000000</td>\n",
       "      <td>0.318355</td>\n",
       "    </tr>\n",
       "    <tr>\n",
       "      <th>population</th>\n",
       "      <td>0.613163</td>\n",
       "      <td>0.318355</td>\n",
       "      <td>1.000000</td>\n",
       "    </tr>\n",
       "  </tbody>\n",
       "</table>\n",
       "</div>"
      ],
      "text/plain": [
       "                 co2_emissions  gdp_current_usd  population\n",
       "co2_emissions         1.000000         0.764050    0.613163\n",
       "gdp_current_usd       0.764050         1.000000    0.318355\n",
       "population            0.613163         0.318355    1.000000"
      ]
     },
     "execution_count": 12,
     "metadata": {},
     "output_type": "execute_result"
    }
   ],
   "source": [
    "# drop non-numeric columns from the dataframe to calculate spearman correlation between the variables\n",
    "\n",
    "co2_gdp_population_data_df = co2_gdp_population_data.drop(['Country Name','Country Code','Region','IncomeGroup'], axis=1)\n",
    "co2_gdp_population_data_df.corr()"
   ]
  },
  {
   "cell_type": "markdown",
   "metadata": {},
   "source": [
    "### Data Preparation"
   ]
  },
  {
   "cell_type": "code",
   "execution_count": 13,
   "metadata": {
    "collapsed": true
   },
   "outputs": [],
   "source": [
    "## Divide the data between train and test\n",
    "\n",
    "# convert year to numeric \n",
    "\n",
    "co2_gdp_population_data['year'] = co2_gdp_population_data['year'].astype('int')\n",
    "\n",
    "# drop unnecessary columns from the dataframe\n",
    "\n",
    "df = co2_gdp_population_data.drop(['Country Name','Country Code','Region','IncomeGroup'], axis=1)\n",
    "\n",
    "# using year as filter define train data as data before 2011 and assign rest as test data \n",
    "\n",
    "train = df[co2_gdp_population_data['year']<=2011]\n",
    "test = df[co2_gdp_population_data['year']>2011]\n",
    "\n",
    "# save the predictor variables and remove unnecessary columns\n",
    "\n",
    "train_x = train.drop(['year','co2_emissions'],axis=1)\n",
    "test_x = test.drop(['year','co2_emissions'],axis=1)\n",
    "\n",
    "# save the response variable \n",
    "\n",
    "train_y = train['co2_emissions']\n",
    "test_y = test['co2_emissions']"
   ]
  },
  {
   "cell_type": "markdown",
   "metadata": {},
   "source": [
    "## Model Building"
   ]
  },
  {
   "cell_type": "markdown",
   "metadata": {},
   "source": [
    "### Multiple Linear Regression"
   ]
  },
  {
   "cell_type": "code",
   "execution_count": 14,
   "metadata": {},
   "outputs": [
    {
     "name": "stdout",
     "output_type": "stream",
     "text": [
      "Coefficients: \n",
      " [  4.49175431e-07   1.79507337e-03]\n",
      "Linear Regression Test Data R-2 score: 0.78\n"
     ]
    }
   ],
   "source": [
    "## Apply multiple linear regression\n",
    "\n",
    "# Save linear regression function\n",
    "\n",
    "regr = linear_model.LinearRegression()\n",
    "\n",
    "# train the model using the training sets\n",
    "\n",
    "regr.fit(train_x, train_y)\n",
    "\n",
    "# make predictions using the testing set\n",
    "\n",
    "y_pred = regr.predict(test_x)\n",
    "\n",
    "# print the coefficients\n",
    "\n",
    "print('Coefficients: \\n', regr.coef_)\n",
    "\n",
    "# print explained variance score: 1 is perfect prediction\n",
    "\n",
    "print('Linear Regression Test Data R-2 score: %.2f' % r2_score(test_y, y_pred))"
   ]
  },
  {
   "cell_type": "markdown",
   "metadata": {},
   "source": [
    "### Random Forest Regressor"
   ]
  },
  {
   "cell_type": "code",
   "execution_count": 15,
   "metadata": {},
   "outputs": [
    {
     "data": {
      "text/plain": [
       "RandomForestRegressor(bootstrap=True, criterion='mse', max_depth=None,\n",
       "           max_features='auto', max_leaf_nodes=None,\n",
       "           min_impurity_decrease=0.0, min_impurity_split=None,\n",
       "           min_samples_leaf=1, min_samples_split=2,\n",
       "           min_weight_fraction_leaf=0.0, n_estimators=500, n_jobs=1,\n",
       "           oob_score=True, random_state=0, verbose=0, warm_start=False)"
      ]
     },
     "execution_count": 15,
     "metadata": {},
     "output_type": "execute_result"
    }
   ],
   "source": [
    "# apply random forest regression on training set (ensemble of decision trees)\n",
    "\n",
    "rf = RandomForestRegressor(n_estimators=500, oob_score=True, random_state=0)\n",
    "rf.fit(train_x, train_y)"
   ]
  },
  {
   "cell_type": "markdown",
   "metadata": {},
   "source": [
    "### Predictions"
   ]
  },
  {
   "cell_type": "code",
   "execution_count": 16,
   "metadata": {},
   "outputs": [
    {
     "name": "stdout",
     "output_type": "stream",
     "text": [
      "Random Forest Test data R-2 score: 0.875\n"
     ]
    }
   ],
   "source": [
    "## Making Predictions\n",
    "\n",
    "# make predictions on test dataset \n",
    "\n",
    "predicted_test = rf.predict(test_x)\n",
    "\n",
    "# calculate mean squared error, spearman and pearson correlation on test set\n",
    "\n",
    "test_score = r2_score(test_y, predicted_test)\n",
    "\n",
    "# print the results\n",
    "\n",
    "print(f'Random Forest Test data R-2 score: {test_score:>5.3}')"
   ]
  },
  {
   "cell_type": "markdown",
   "metadata": {},
   "source": [
    "### Test Data Export"
   ]
  },
  {
   "cell_type": "code",
   "execution_count": 17,
   "metadata": {},
   "outputs": [
    {
     "data": {
      "text/html": [
       "<div>\n",
       "<style>\n",
       "    .dataframe thead tr:only-child th {\n",
       "        text-align: right;\n",
       "    }\n",
       "\n",
       "    .dataframe thead th {\n",
       "        text-align: left;\n",
       "    }\n",
       "\n",
       "    .dataframe tbody tr th {\n",
       "        vertical-align: top;\n",
       "    }\n",
       "</style>\n",
       "<table border=\"1\" class=\"dataframe\">\n",
       "  <thead>\n",
       "    <tr style=\"text-align: right;\">\n",
       "      <th></th>\n",
       "      <th>year</th>\n",
       "      <th>co2_emissions</th>\n",
       "      <th>gdp_current_usd</th>\n",
       "      <th>population</th>\n",
       "      <th>predicted_co2_emmissions</th>\n",
       "    </tr>\n",
       "  </thead>\n",
       "  <tbody>\n",
       "    <tr>\n",
       "      <th>11285</th>\n",
       "      <td>2012</td>\n",
       "      <td>10755.311</td>\n",
       "      <td>2.053654e+10</td>\n",
       "      <td>30696958.0</td>\n",
       "      <td>35583.027860</td>\n",
       "    </tr>\n",
       "    <tr>\n",
       "      <th>11286</th>\n",
       "      <td>2012</td>\n",
       "      <td>33399.036</td>\n",
       "      <td>1.153984e+11</td>\n",
       "      <td>25096150.0</td>\n",
       "      <td>164925.554536</td>\n",
       "    </tr>\n",
       "    <tr>\n",
       "      <th>11287</th>\n",
       "      <td>2012</td>\n",
       "      <td>4910.113</td>\n",
       "      <td>1.231978e+10</td>\n",
       "      <td>2900401.0</td>\n",
       "      <td>6746.179900</td>\n",
       "    </tr>\n",
       "    <tr>\n",
       "      <th>11288</th>\n",
       "      <td>2012</td>\n",
       "      <td>487.711</td>\n",
       "      <td>3.146152e+09</td>\n",
       "      <td>82431.0</td>\n",
       "      <td>534.105884</td>\n",
       "    </tr>\n",
       "    <tr>\n",
       "      <th>11289</th>\n",
       "      <td>2012</td>\n",
       "      <td>176386.367</td>\n",
       "      <td>3.748180e+11</td>\n",
       "      <td>8900453.0</td>\n",
       "      <td>56988.443630</td>\n",
       "    </tr>\n",
       "    <tr>\n",
       "      <th>11290</th>\n",
       "      <td>2012</td>\n",
       "      <td>192356.152</td>\n",
       "      <td>5.459824e+11</td>\n",
       "      <td>42096739.0</td>\n",
       "      <td>289406.167260</td>\n",
       "    </tr>\n",
       "    <tr>\n",
       "      <th>11291</th>\n",
       "      <td>2012</td>\n",
       "      <td>5694.851</td>\n",
       "      <td>1.061932e+10</td>\n",
       "      <td>2881922.0</td>\n",
       "      <td>6295.798960</td>\n",
       "    </tr>\n",
       "    <tr>\n",
       "      <th>11293</th>\n",
       "      <td>2012</td>\n",
       "      <td>524.381</td>\n",
       "      <td>1.216046e+09</td>\n",
       "      <td>96777.0</td>\n",
       "      <td>524.417670</td>\n",
       "    </tr>\n",
       "    <tr>\n",
       "      <th>11294</th>\n",
       "      <td>2012</td>\n",
       "      <td>388126.281</td>\n",
       "      <td>1.538194e+12</td>\n",
       "      <td>22728254.0</td>\n",
       "      <td>398987.509628</td>\n",
       "    </tr>\n",
       "    <tr>\n",
       "      <th>11295</th>\n",
       "      <td>2012</td>\n",
       "      <td>62272.994</td>\n",
       "      <td>4.074516e+11</td>\n",
       "      <td>8429991.0</td>\n",
       "      <td>62131.909842</td>\n",
       "    </tr>\n",
       "  </tbody>\n",
       "</table>\n",
       "</div>"
      ],
      "text/plain": [
       "       year  co2_emissions  gdp_current_usd  population  \\\n",
       "11285  2012      10755.311     2.053654e+10  30696958.0   \n",
       "11286  2012      33399.036     1.153984e+11  25096150.0   \n",
       "11287  2012       4910.113     1.231978e+10   2900401.0   \n",
       "11288  2012        487.711     3.146152e+09     82431.0   \n",
       "11289  2012     176386.367     3.748180e+11   8900453.0   \n",
       "11290  2012     192356.152     5.459824e+11  42096739.0   \n",
       "11291  2012       5694.851     1.061932e+10   2881922.0   \n",
       "11293  2012        524.381     1.216046e+09     96777.0   \n",
       "11294  2012     388126.281     1.538194e+12  22728254.0   \n",
       "11295  2012      62272.994     4.074516e+11   8429991.0   \n",
       "\n",
       "       predicted_co2_emmissions  \n",
       "11285              35583.027860  \n",
       "11286             164925.554536  \n",
       "11287               6746.179900  \n",
       "11288                534.105884  \n",
       "11289              56988.443630  \n",
       "11290             289406.167260  \n",
       "11291               6295.798960  \n",
       "11293                524.417670  \n",
       "11294             398987.509628  \n",
       "11295              62131.909842  "
      ]
     },
     "execution_count": 17,
     "metadata": {},
     "output_type": "execute_result"
    }
   ],
   "source": [
    "# Append the predicted values by random forest regressor for co2 emissions as a column in the test data\n",
    "\n",
    "test['predicted_co2_emmissions'] = predicted_test\n",
    "\n",
    "# check first few rows of dataframe\n",
    "\n",
    "test.head(10)"
   ]
  },
  {
   "cell_type": "code",
   "execution_count": 18,
   "metadata": {
    "collapsed": true
   },
   "outputs": [],
   "source": [
    "# Also append the country name column to the test dataset \n",
    "\n",
    "co2_gdp_population_data['year'] = co2_gdp_population_data['year'].astype('int')\n",
    "dd = co2_gdp_population_data[co2_gdp_population_data['year']>2011]\n",
    "test['Country Name'] = dd['Country Name']"
   ]
  },
  {
   "cell_type": "code",
   "execution_count": 19,
   "metadata": {
    "collapsed": true
   },
   "outputs": [],
   "source": [
    "# save the test dataset to be used for plotting in tableau\n",
    "\n",
    "test.to_excel(\"test.xlsx\",index=False)"
   ]
  }
 ],
 "metadata": {
  "kernelspec": {
   "display_name": "Python 3",
   "language": "python",
   "name": "python3"
  },
  "language_info": {
   "codemirror_mode": {
    "name": "ipython",
    "version": 3
   },
   "file_extension": ".py",
   "mimetype": "text/x-python",
   "name": "python",
   "nbconvert_exporter": "python",
   "pygments_lexer": "ipython3",
   "version": "3.6.2"
  }
 },
 "nbformat": 4,
 "nbformat_minor": 2
}
